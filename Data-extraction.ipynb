{
 "cells": [
  {
   "cell_type": "code",
   "execution_count": null,
   "metadata": {},
   "outputs": [],
   "source": [
    "import numpy as np\n",
    "import matplotlib.pyplot as plt\n",
    "filefolder = 'C:/Users/gregorg/OneDrive - Univerza v Ljubljani/Predmeti/Akusticne_merilne_metode/Eksperiment/Low frequency fatique test 1/'\n",
    "data0 = np.loadtxt(filefolder+'SF009_0.txt', max_rows=2)\n",
    "data1 = np.loadtxt(filefolder+'SF009_1.txt', max_rows=2)\n",
    "data2 = np.loadtxt(filefolder+'SF009_2.txt', max_rows=2)\n",
    "data3 = np.loadtxt(filefolder+'SF009_3.txt', max_rows=2)\n",
    "data4 = np.loadtxt(filefolder+'SF009_4.txt', max_rows=2)\n",
    "data5 = np.loadtxt(filefolder+'SF009_5.txt', max_rows=2)\n",
    "data6 = np.loadtxt(filefolder+'SF009_6.txt', max_rows=2)\n",
    "data7 = np.loadtxt(filefolder+'SF009_7.txt', max_rows=2)\n",
    "data8 = np.loadtxt(filefolder+'SF009_8.txt', max_rows=2)\n",
    "dynamicData = np.loadtxt('C:/Users/gregorg/OneDrive - Univerza v Ljubljani/Predmeti/Akusticne_merilne_metode/Eksperiment/Dynamic test 1/FDD009.txt')\n",
    "data = np.concatenate((data0,data1,data2,data3,data4,data5,data6,data7,data8),axis=1)\n",
    "F = data[0,:]\n",
    "u = data[1,:]\n",
    "b = dynamicData[0,5]\n",
    "a = dynamicData[0,6]\n",
    "l = dynamicData[0,7]-(dynamicData[0,7]*0.224*2)\n",
    "Edyn = dynamicData[:,3]\n",
    "ω = dynamicData[:,0]\n",
    "\n",
    "plt.figure(figsize=(7,5),dpi=100)\n",
    "plt.plot(u,F)\n",
    "plt.xlabel('w [mm]')\n",
    "plt.ylabel('F [N]')\n",
    "plt.grid()"
   ]
  }
 ],
 "metadata": {
  "kernelspec": {
   "display_name": "Python 3",
   "language": "python",
   "name": "python3"
  },
  "language_info": {
   "codemirror_mode": {
    "name": "ipython",
    "version": 3
   },
   "file_extension": ".py",
   "mimetype": "text/x-python",
   "name": "python",
   "nbconvert_exporter": "python",
   "pygments_lexer": "ipython3",
   "version": "3.12.1"
  }
 },
 "nbformat": 4,
 "nbformat_minor": 2
}
