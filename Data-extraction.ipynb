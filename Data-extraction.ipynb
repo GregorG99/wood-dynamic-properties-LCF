import numpy as np
import matplotlib.pyplot as plt
filefolder = 'C:/Users/.../'
data0 = np.loadtxt(filefolder+'SF009_0.txt', max_rows=2)
data1 = np.loadtxt(filefolder+'SF009_1.txt', max_rows=2)
data2 = np.loadtxt(filefolder+'SF009_2.txt', max_rows=2)
data3 = np.loadtxt(filefolder+'SF009_3.txt', max_rows=2)
data4 = np.loadtxt(filefolder+'SF009_4.txt', max_rows=2)
data5 = np.loadtxt(filefolder+'SF009_5.txt', max_rows=2)
data6 = np.loadtxt(filefolder+'SF009_6.txt', max_rows=2)
data7 = np.loadtxt(filefolder+'SF009_7.txt', max_rows=2)
data8 = np.loadtxt(filefolder+'SF009_8.txt', max_rows=2)
dynamicData = np.loadtxt(filefolder+'FDD009.txt')
data = np.concatenate((data0,data1,data2,data3,data4,data5,data6,data7,data8),axis=1)
F = data[0,:]
u = data[1,:]
b = dynamicData[0,5]
a = dynamicData[0,6]
l = dynamicData[0,7]-(dynamicData[0,7]*0.224*2)
Edyn = dynamicData[:,3]
ω = dynamicData[:,0]

plt.figure(figsize=(7,5),dpi=100)
plt.plot(u,F)
plt.xlabel('w [mm]')
plt.ylabel('F [N]')
plt.grid()
